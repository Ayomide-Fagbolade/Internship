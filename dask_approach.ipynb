{
 "cells": [
  {
   "cell_type": "code",
   "execution_count": 1,
   "id": "528b600a",
   "metadata": {},
   "outputs": [
    {
     "name": "stderr",
     "output_type": "stream",
     "text": [
      "C:\\Users\\ayo\\AppData\\Roaming\\Python\\Python313\\site-packages\\dask\\dataframe\\io\\csv.py:77: DtypeWarning: Columns (11) have mixed types. Specify dtype option on import or set low_memory=False.\n",
      "  df = reader(bio, **kwargs)\n",
      "C:\\Users\\ayo\\AppData\\Roaming\\Python\\Python313\\site-packages\\dask\\dataframe\\io\\csv.py:77: DtypeWarning: Columns (11) have mixed types. Specify dtype option on import or set low_memory=False.\n",
      "  df = reader(bio, **kwargs)\n",
      "C:\\Users\\ayo\\AppData\\Roaming\\Python\\Python313\\site-packages\\dask\\dataframe\\io\\csv.py:77: DtypeWarning: Columns (11) have mixed types. Specify dtype option on import or set low_memory=False.\n",
      "  df = reader(bio, **kwargs)\n",
      "C:\\Users\\ayo\\AppData\\Roaming\\Python\\Python313\\site-packages\\dask\\dataframe\\io\\csv.py:77: DtypeWarning: Columns (11) have mixed types. Specify dtype option on import or set low_memory=False.\n",
      "  df = reader(bio, **kwargs)\n",
      "C:\\Users\\ayo\\AppData\\Roaming\\Python\\Python313\\site-packages\\dask\\dataframe\\io\\csv.py:77: DtypeWarning: Columns (11) have mixed types. Specify dtype option on import or set low_memory=False.\n",
      "  df = reader(bio, **kwargs)\n",
      "C:\\Users\\ayo\\AppData\\Roaming\\Python\\Python313\\site-packages\\dask\\dataframe\\io\\csv.py:77: DtypeWarning: Columns (11) have mixed types. Specify dtype option on import or set low_memory=False.\n",
      "  df = reader(bio, **kwargs)\n",
      "C:\\Users\\ayo\\AppData\\Roaming\\Python\\Python313\\site-packages\\dask\\dataframe\\io\\csv.py:77: DtypeWarning: Columns (11) have mixed types. Specify dtype option on import or set low_memory=False.\n",
      "  df = reader(bio, **kwargs)\n",
      "C:\\Users\\ayo\\AppData\\Roaming\\Python\\Python313\\site-packages\\dask\\dataframe\\io\\csv.py:77: DtypeWarning: Columns (11) have mixed types. Specify dtype option on import or set low_memory=False.\n",
      "  df = reader(bio, **kwargs)\n",
      "C:\\Users\\ayo\\AppData\\Roaming\\Python\\Python313\\site-packages\\dask\\dataframe\\io\\csv.py:77: DtypeWarning: Columns (11) have mixed types. Specify dtype option on import or set low_memory=False.\n",
      "  df = reader(bio, **kwargs)\n",
      "C:\\Users\\ayo\\AppData\\Roaming\\Python\\Python313\\site-packages\\dask\\dataframe\\io\\csv.py:77: DtypeWarning: Columns (11) have mixed types. Specify dtype option on import or set low_memory=False.\n",
      "  df = reader(bio, **kwargs)\n",
      "C:\\Users\\ayo\\AppData\\Roaming\\Python\\Python313\\site-packages\\dask\\dataframe\\io\\csv.py:77: DtypeWarning: Columns (11) have mixed types. Specify dtype option on import or set low_memory=False.\n",
      "  df = reader(bio, **kwargs)\n",
      "C:\\Users\\ayo\\AppData\\Roaming\\Python\\Python313\\site-packages\\dask\\dataframe\\io\\csv.py:77: DtypeWarning: Columns (11) have mixed types. Specify dtype option on import or set low_memory=False.\n",
      "  df = reader(bio, **kwargs)\n",
      "C:\\Users\\ayo\\AppData\\Roaming\\Python\\Python313\\site-packages\\dask\\dataframe\\io\\csv.py:77: DtypeWarning: Columns (11) have mixed types. Specify dtype option on import or set low_memory=False.\n",
      "  df = reader(bio, **kwargs)\n",
      "C:\\Users\\ayo\\AppData\\Roaming\\Python\\Python313\\site-packages\\dask\\dataframe\\io\\csv.py:77: DtypeWarning: Columns (11) have mixed types. Specify dtype option on import or set low_memory=False.\n",
      "  df = reader(bio, **kwargs)\n",
      "C:\\Users\\ayo\\AppData\\Roaming\\Python\\Python313\\site-packages\\dask\\dataframe\\io\\csv.py:77: DtypeWarning: Columns (11) have mixed types. Specify dtype option on import or set low_memory=False.\n",
      "  df = reader(bio, **kwargs)\n",
      "C:\\Users\\ayo\\AppData\\Roaming\\Python\\Python313\\site-packages\\dask\\dataframe\\io\\csv.py:77: DtypeWarning: Columns (11) have mixed types. Specify dtype option on import or set low_memory=False.\n",
      "  df = reader(bio, **kwargs)\n",
      "C:\\Users\\ayo\\AppData\\Roaming\\Python\\Python313\\site-packages\\dask\\dataframe\\io\\csv.py:77: DtypeWarning: Columns (11) have mixed types. Specify dtype option on import or set low_memory=False.\n",
      "  df = reader(bio, **kwargs)\n",
      "C:\\Users\\ayo\\AppData\\Roaming\\Python\\Python313\\site-packages\\dask\\dataframe\\io\\csv.py:77: DtypeWarning: Columns (11) have mixed types. Specify dtype option on import or set low_memory=False.\n",
      "  df = reader(bio, **kwargs)\n",
      "C:\\Users\\ayo\\AppData\\Roaming\\Python\\Python313\\site-packages\\dask\\dataframe\\io\\csv.py:77: DtypeWarning: Columns (11) have mixed types. Specify dtype option on import or set low_memory=False.\n",
      "  df = reader(bio, **kwargs)\n",
      "C:\\Users\\ayo\\AppData\\Roaming\\Python\\Python313\\site-packages\\dask\\dataframe\\io\\csv.py:77: DtypeWarning: Columns (11) have mixed types. Specify dtype option on import or set low_memory=False.\n",
      "  df = reader(bio, **kwargs)\n",
      "C:\\Users\\ayo\\AppData\\Roaming\\Python\\Python313\\site-packages\\dask\\dataframe\\io\\csv.py:77: DtypeWarning: Columns (11) have mixed types. Specify dtype option on import or set low_memory=False.\n",
      "  df = reader(bio, **kwargs)\n",
      "C:\\Users\\ayo\\AppData\\Roaming\\Python\\Python313\\site-packages\\dask\\dataframe\\io\\csv.py:77: DtypeWarning: Columns (11) have mixed types. Specify dtype option on import or set low_memory=False.\n",
      "  df = reader(bio, **kwargs)\n",
      "C:\\Users\\ayo\\AppData\\Roaming\\Python\\Python313\\site-packages\\dask\\dataframe\\io\\csv.py:77: DtypeWarning: Columns (11) have mixed types. Specify dtype option on import or set low_memory=False.\n",
      "  df = reader(bio, **kwargs)\n",
      "C:\\Users\\ayo\\AppData\\Roaming\\Python\\Python313\\site-packages\\dask\\dataframe\\io\\csv.py:77: DtypeWarning: Columns (11) have mixed types. Specify dtype option on import or set low_memory=False.\n",
      "  df = reader(bio, **kwargs)\n",
      "C:\\Users\\ayo\\AppData\\Roaming\\Python\\Python313\\site-packages\\dask\\dataframe\\io\\csv.py:77: DtypeWarning: Columns (11) have mixed types. Specify dtype option on import or set low_memory=False.\n",
      "  df = reader(bio, **kwargs)\n",
      "C:\\Users\\ayo\\AppData\\Roaming\\Python\\Python313\\site-packages\\dask\\dataframe\\io\\csv.py:77: DtypeWarning: Columns (11) have mixed types. Specify dtype option on import or set low_memory=False.\n",
      "  df = reader(bio, **kwargs)\n",
      "C:\\Users\\ayo\\AppData\\Roaming\\Python\\Python313\\site-packages\\dask\\dataframe\\io\\csv.py:77: DtypeWarning: Columns (11) have mixed types. Specify dtype option on import or set low_memory=False.\n",
      "  df = reader(bio, **kwargs)\n",
      "C:\\Users\\ayo\\AppData\\Roaming\\Python\\Python313\\site-packages\\dask\\dataframe\\io\\csv.py:77: DtypeWarning: Columns (11) have mixed types. Specify dtype option on import or set low_memory=False.\n",
      "  df = reader(bio, **kwargs)\n",
      "C:\\Users\\ayo\\AppData\\Roaming\\Python\\Python313\\site-packages\\dask\\dataframe\\io\\csv.py:77: DtypeWarning: Columns (11) have mixed types. Specify dtype option on import or set low_memory=False.\n",
      "  df = reader(bio, **kwargs)\n",
      "C:\\Users\\ayo\\AppData\\Roaming\\Python\\Python313\\site-packages\\dask\\dataframe\\io\\csv.py:77: DtypeWarning: Columns (11) have mixed types. Specify dtype option on import or set low_memory=False.\n",
      "  df = reader(bio, **kwargs)\n",
      "C:\\Users\\ayo\\AppData\\Roaming\\Python\\Python313\\site-packages\\dask\\dataframe\\io\\csv.py:77: DtypeWarning: Columns (11) have mixed types. Specify dtype option on import or set low_memory=False.\n",
      "  df = reader(bio, **kwargs)\n",
      "C:\\Users\\ayo\\AppData\\Roaming\\Python\\Python313\\site-packages\\dask\\dataframe\\io\\csv.py:77: DtypeWarning: Columns (11) have mixed types. Specify dtype option on import or set low_memory=False.\n",
      "  df = reader(bio, **kwargs)\n",
      "C:\\Users\\ayo\\AppData\\Roaming\\Python\\Python313\\site-packages\\dask\\dataframe\\io\\csv.py:77: DtypeWarning: Columns (11) have mixed types. Specify dtype option on import or set low_memory=False.\n",
      "  df = reader(bio, **kwargs)\n",
      "C:\\Users\\ayo\\AppData\\Roaming\\Python\\Python313\\site-packages\\dask\\dataframe\\io\\csv.py:77: DtypeWarning: Columns (11) have mixed types. Specify dtype option on import or set low_memory=False.\n",
      "  df = reader(bio, **kwargs)\n",
      "C:\\Users\\ayo\\AppData\\Roaming\\Python\\Python313\\site-packages\\dask\\dataframe\\io\\csv.py:77: DtypeWarning: Columns (11) have mixed types. Specify dtype option on import or set low_memory=False.\n",
      "  df = reader(bio, **kwargs)\n",
      "C:\\Users\\ayo\\AppData\\Roaming\\Python\\Python313\\site-packages\\dask\\dataframe\\io\\csv.py:77: DtypeWarning: Columns (11) have mixed types. Specify dtype option on import or set low_memory=False.\n",
      "  df = reader(bio, **kwargs)\n",
      "C:\\Users\\ayo\\AppData\\Roaming\\Python\\Python313\\site-packages\\dask\\dataframe\\io\\csv.py:77: DtypeWarning: Columns (11) have mixed types. Specify dtype option on import or set low_memory=False.\n",
      "  df = reader(bio, **kwargs)\n",
      "C:\\Users\\ayo\\AppData\\Roaming\\Python\\Python313\\site-packages\\dask\\dataframe\\io\\csv.py:77: DtypeWarning: Columns (11) have mixed types. Specify dtype option on import or set low_memory=False.\n",
      "  df = reader(bio, **kwargs)\n",
      "C:\\Users\\ayo\\AppData\\Roaming\\Python\\Python313\\site-packages\\dask\\dataframe\\io\\csv.py:77: DtypeWarning: Columns (11) have mixed types. Specify dtype option on import or set low_memory=False.\n",
      "  df = reader(bio, **kwargs)\n",
      "C:\\Users\\ayo\\AppData\\Roaming\\Python\\Python313\\site-packages\\dask\\dataframe\\io\\csv.py:77: DtypeWarning: Columns (11) have mixed types. Specify dtype option on import or set low_memory=False.\n",
      "  df = reader(bio, **kwargs)\n",
      "C:\\Users\\ayo\\AppData\\Roaming\\Python\\Python313\\site-packages\\dask\\dataframe\\io\\csv.py:77: DtypeWarning: Columns (11) have mixed types. Specify dtype option on import or set low_memory=False.\n",
      "  df = reader(bio, **kwargs)\n"
     ]
    },
    {
     "name": "stdout",
     "output_type": "stream",
     "text": [
      "Dask DataFrame shape: 78100206 rows, 103 columns\n"
     ]
    },
    {
     "name": "stderr",
     "output_type": "stream",
     "text": [
      "C:\\Users\\ayo\\AppData\\Roaming\\Python\\Python313\\site-packages\\dask\\dataframe\\io\\csv.py:77: DtypeWarning: Columns (11) have mixed types. Specify dtype option on import or set low_memory=False.\n",
      "  df = reader(bio, **kwargs)\n",
      "C:\\Users\\ayo\\AppData\\Roaming\\Python\\Python313\\site-packages\\dask\\dataframe\\io\\csv.py:77: DtypeWarning: Columns (11) have mixed types. Specify dtype option on import or set low_memory=False.\n",
      "  df = reader(bio, **kwargs)\n",
      "C:\\Users\\ayo\\AppData\\Roaming\\Python\\Python313\\site-packages\\dask\\dataframe\\io\\csv.py:77: DtypeWarning: Columns (11) have mixed types. Specify dtype option on import or set low_memory=False.\n",
      "  df = reader(bio, **kwargs)\n",
      "C:\\Users\\ayo\\AppData\\Roaming\\Python\\Python313\\site-packages\\dask\\dataframe\\io\\csv.py:77: DtypeWarning: Columns (11) have mixed types. Specify dtype option on import or set low_memory=False.\n",
      "  df = reader(bio, **kwargs)\n",
      "C:\\Users\\ayo\\AppData\\Roaming\\Python\\Python313\\site-packages\\dask\\dataframe\\io\\csv.py:77: DtypeWarning: Columns (11) have mixed types. Specify dtype option on import or set low_memory=False.\n",
      "  df = reader(bio, **kwargs)\n",
      "C:\\Users\\ayo\\AppData\\Roaming\\Python\\Python313\\site-packages\\dask\\dataframe\\io\\csv.py:77: DtypeWarning: Columns (11) have mixed types. Specify dtype option on import or set low_memory=False.\n",
      "  df = reader(bio, **kwargs)\n",
      "C:\\Users\\ayo\\AppData\\Roaming\\Python\\Python313\\site-packages\\dask\\dataframe\\io\\csv.py:77: DtypeWarning: Columns (11) have mixed types. Specify dtype option on import or set low_memory=False.\n",
      "  df = reader(bio, **kwargs)\n",
      "C:\\Users\\ayo\\AppData\\Roaming\\Python\\Python313\\site-packages\\dask\\dataframe\\io\\csv.py:77: DtypeWarning: Columns (11) have mixed types. Specify dtype option on import or set low_memory=False.\n",
      "  df = reader(bio, **kwargs)\n",
      "C:\\Users\\ayo\\AppData\\Roaming\\Python\\Python313\\site-packages\\dask\\dataframe\\io\\csv.py:77: DtypeWarning: Columns (11) have mixed types. Specify dtype option on import or set low_memory=False.\n",
      "  df = reader(bio, **kwargs)\n",
      "C:\\Users\\ayo\\AppData\\Roaming\\Python\\Python313\\site-packages\\dask\\dataframe\\io\\csv.py:77: DtypeWarning: Columns (11) have mixed types. Specify dtype option on import or set low_memory=False.\n",
      "  df = reader(bio, **kwargs)\n",
      "C:\\Users\\ayo\\AppData\\Roaming\\Python\\Python313\\site-packages\\dask\\dataframe\\io\\csv.py:77: DtypeWarning: Columns (11) have mixed types. Specify dtype option on import or set low_memory=False.\n",
      "  df = reader(bio, **kwargs)\n",
      "C:\\Users\\ayo\\AppData\\Roaming\\Python\\Python313\\site-packages\\dask\\dataframe\\io\\csv.py:77: DtypeWarning: Columns (11) have mixed types. Specify dtype option on import or set low_memory=False.\n",
      "  df = reader(bio, **kwargs)\n",
      "C:\\Users\\ayo\\AppData\\Roaming\\Python\\Python313\\site-packages\\dask\\dataframe\\io\\csv.py:77: DtypeWarning: Columns (11) have mixed types. Specify dtype option on import or set low_memory=False.\n",
      "  df = reader(bio, **kwargs)\n",
      "C:\\Users\\ayo\\AppData\\Roaming\\Python\\Python313\\site-packages\\dask\\dataframe\\io\\csv.py:77: DtypeWarning: Columns (11) have mixed types. Specify dtype option on import or set low_memory=False.\n",
      "  df = reader(bio, **kwargs)\n",
      "C:\\Users\\ayo\\AppData\\Roaming\\Python\\Python313\\site-packages\\dask\\dataframe\\io\\csv.py:77: DtypeWarning: Columns (11) have mixed types. Specify dtype option on import or set low_memory=False.\n",
      "  df = reader(bio, **kwargs)\n",
      "C:\\Users\\ayo\\AppData\\Roaming\\Python\\Python313\\site-packages\\dask\\dataframe\\io\\csv.py:77: DtypeWarning: Columns (11) have mixed types. Specify dtype option on import or set low_memory=False.\n",
      "  df = reader(bio, **kwargs)\n",
      "C:\\Users\\ayo\\AppData\\Roaming\\Python\\Python313\\site-packages\\dask\\dataframe\\io\\csv.py:77: DtypeWarning: Columns (11) have mixed types. Specify dtype option on import or set low_memory=False.\n",
      "  df = reader(bio, **kwargs)\n",
      "C:\\Users\\ayo\\AppData\\Roaming\\Python\\Python313\\site-packages\\dask\\dataframe\\io\\csv.py:77: DtypeWarning: Columns (11) have mixed types. Specify dtype option on import or set low_memory=False.\n",
      "  df = reader(bio, **kwargs)\n",
      "C:\\Users\\ayo\\AppData\\Roaming\\Python\\Python313\\site-packages\\dask\\dataframe\\io\\csv.py:77: DtypeWarning: Columns (11) have mixed types. Specify dtype option on import or set low_memory=False.\n",
      "  df = reader(bio, **kwargs)\n",
      "C:\\Users\\ayo\\AppData\\Roaming\\Python\\Python313\\site-packages\\dask\\dataframe\\io\\csv.py:77: DtypeWarning: Columns (11) have mixed types. Specify dtype option on import or set low_memory=False.\n",
      "  df = reader(bio, **kwargs)\n",
      "C:\\Users\\ayo\\AppData\\Roaming\\Python\\Python313\\site-packages\\dask\\dataframe\\io\\csv.py:77: DtypeWarning: Columns (11) have mixed types. Specify dtype option on import or set low_memory=False.\n",
      "  df = reader(bio, **kwargs)\n",
      "C:\\Users\\ayo\\AppData\\Roaming\\Python\\Python313\\site-packages\\dask\\dataframe\\io\\csv.py:77: DtypeWarning: Columns (11) have mixed types. Specify dtype option on import or set low_memory=False.\n",
      "  df = reader(bio, **kwargs)\n",
      "C:\\Users\\ayo\\AppData\\Roaming\\Python\\Python313\\site-packages\\dask\\dataframe\\io\\csv.py:77: DtypeWarning: Columns (11) have mixed types. Specify dtype option on import or set low_memory=False.\n",
      "  df = reader(bio, **kwargs)\n",
      "C:\\Users\\ayo\\AppData\\Roaming\\Python\\Python313\\site-packages\\dask\\dataframe\\io\\csv.py:77: DtypeWarning: Columns (11) have mixed types. Specify dtype option on import or set low_memory=False.\n",
      "  df = reader(bio, **kwargs)\n",
      "C:\\Users\\ayo\\AppData\\Roaming\\Python\\Python313\\site-packages\\dask\\dataframe\\io\\csv.py:77: DtypeWarning: Columns (11) have mixed types. Specify dtype option on import or set low_memory=False.\n",
      "  df = reader(bio, **kwargs)\n",
      "C:\\Users\\ayo\\AppData\\Roaming\\Python\\Python313\\site-packages\\dask\\dataframe\\io\\csv.py:77: DtypeWarning: Columns (11) have mixed types. Specify dtype option on import or set low_memory=False.\n",
      "  df = reader(bio, **kwargs)\n",
      "C:\\Users\\ayo\\AppData\\Roaming\\Python\\Python313\\site-packages\\dask\\dataframe\\io\\csv.py:77: DtypeWarning: Columns (11) have mixed types. Specify dtype option on import or set low_memory=False.\n",
      "  df = reader(bio, **kwargs)\n",
      "C:\\Users\\ayo\\AppData\\Roaming\\Python\\Python313\\site-packages\\dask\\dataframe\\io\\csv.py:77: DtypeWarning: Columns (11) have mixed types. Specify dtype option on import or set low_memory=False.\n",
      "  df = reader(bio, **kwargs)\n",
      "C:\\Users\\ayo\\AppData\\Roaming\\Python\\Python313\\site-packages\\dask\\dataframe\\io\\csv.py:77: DtypeWarning: Columns (11) have mixed types. Specify dtype option on import or set low_memory=False.\n",
      "  df = reader(bio, **kwargs)\n",
      "C:\\Users\\ayo\\AppData\\Roaming\\Python\\Python313\\site-packages\\dask\\dataframe\\io\\csv.py:77: DtypeWarning: Columns (11) have mixed types. Specify dtype option on import or set low_memory=False.\n",
      "  df = reader(bio, **kwargs)\n",
      "C:\\Users\\ayo\\AppData\\Roaming\\Python\\Python313\\site-packages\\dask\\dataframe\\io\\csv.py:77: DtypeWarning: Columns (11) have mixed types. Specify dtype option on import or set low_memory=False.\n",
      "  df = reader(bio, **kwargs)\n",
      "C:\\Users\\ayo\\AppData\\Roaming\\Python\\Python313\\site-packages\\dask\\dataframe\\io\\csv.py:77: DtypeWarning: Columns (11) have mixed types. Specify dtype option on import or set low_memory=False.\n",
      "  df = reader(bio, **kwargs)\n",
      "C:\\Users\\ayo\\AppData\\Roaming\\Python\\Python313\\site-packages\\dask\\dataframe\\io\\csv.py:77: DtypeWarning: Columns (11) have mixed types. Specify dtype option on import or set low_memory=False.\n",
      "  df = reader(bio, **kwargs)\n",
      "C:\\Users\\ayo\\AppData\\Roaming\\Python\\Python313\\site-packages\\dask\\dataframe\\io\\csv.py:77: DtypeWarning: Columns (11) have mixed types. Specify dtype option on import or set low_memory=False.\n",
      "  df = reader(bio, **kwargs)\n",
      "C:\\Users\\ayo\\AppData\\Roaming\\Python\\Python313\\site-packages\\dask\\dataframe\\io\\csv.py:77: DtypeWarning: Columns (11) have mixed types. Specify dtype option on import or set low_memory=False.\n",
      "  df = reader(bio, **kwargs)\n",
      "C:\\Users\\ayo\\AppData\\Roaming\\Python\\Python313\\site-packages\\dask\\dataframe\\io\\csv.py:77: DtypeWarning: Columns (11) have mixed types. Specify dtype option on import or set low_memory=False.\n",
      "  df = reader(bio, **kwargs)\n",
      "C:\\Users\\ayo\\AppData\\Roaming\\Python\\Python313\\site-packages\\dask\\dataframe\\io\\csv.py:77: DtypeWarning: Columns (11) have mixed types. Specify dtype option on import or set low_memory=False.\n",
      "  df = reader(bio, **kwargs)\n",
      "C:\\Users\\ayo\\AppData\\Roaming\\Python\\Python313\\site-packages\\dask\\dataframe\\io\\csv.py:77: DtypeWarning: Columns (11) have mixed types. Specify dtype option on import or set low_memory=False.\n",
      "  df = reader(bio, **kwargs)\n",
      "C:\\Users\\ayo\\AppData\\Roaming\\Python\\Python313\\site-packages\\dask\\dataframe\\io\\csv.py:77: DtypeWarning: Columns (11) have mixed types. Specify dtype option on import or set low_memory=False.\n",
      "  df = reader(bio, **kwargs)\n",
      "C:\\Users\\ayo\\AppData\\Roaming\\Python\\Python313\\site-packages\\dask\\dataframe\\io\\csv.py:77: DtypeWarning: Columns (11) have mixed types. Specify dtype option on import or set low_memory=False.\n",
      "  df = reader(bio, **kwargs)\n",
      "C:\\Users\\ayo\\AppData\\Roaming\\Python\\Python313\\site-packages\\dask\\dataframe\\io\\csv.py:77: DtypeWarning: Columns (11) have mixed types. Specify dtype option on import or set low_memory=False.\n",
      "  df = reader(bio, **kwargs)\n"
     ]
    },
    {
     "name": "stdout",
     "output_type": "stream",
     "text": [
      "Columns with more than 90% missing values: ['Microdata ID', 'Observation value', 'Base period', 'DONOR_AGENCY', 'Donor agency', 'OECD_ID', 'OECD ID', 'DONOR_PROJECT_ID', 'Donor project ID', 'REGION', 'Region', 'INCOME_GROUP', 'Income group', 'CHANNELDELIVERY_CODE', 'Channel of delivery code', 'CHANNELDELIVERY_NAME', 'Channel of delivery name', 'CATEGORY_CODE', 'Category code', 'CATEGORY_NAME', 'Category name', 'FINANCETYPE_CODE', 'FinanceType code', 'FINANCETYPE_NAME', 'FinanceType name', 'BIMULTI_CODE', 'BiMulti code', 'SHORT_DESCRIPTION', 'Short description', 'PROJECT_TITLE', 'Project title', 'LONG_DESCRIPTION', 'Long description', 'SDG_FOCUS', 'SDG focus', 'GENDER_EQUALITY', 'Gender equality', 'ENVIRONMENT', 'Environment', 'GOVERNANCE', 'Governance', 'RMNCH', 'RMNCH.1', 'DRR', 'DRR.1', 'NUTRITION', 'Nutrition', 'DISABILITY', 'Disability', 'BIODIVERSITY', 'Biodiversity', 'CLIMATE_MITIGATION', 'Climate mitigation', 'CLIMATE_ADAPTATION', 'Climate adaptation', 'DESERTIFICATION', 'Desertification', 'AMOUNT_TIED', 'Amount tied', 'AMOUNT_UNTIED', 'Amount untied', 'AMOUNT_PARTIALLY_UNTIED', 'Amount partially untied', 'NATURE_OF_SUBMISSION', 'Nature of submission', 'PSIFLAG_CODE', 'PSI flag', 'PSIFLAG_NAME', 'PSI Flag name']\n"
     ]
    }
   ],
   "source": [
    "# Example: Using Dask to process a large CSV file in parallel\n",
    "# Install Dask if not already installed: !pip install dask[complete]\n",
    "import dask.dataframe as dd\n",
    "\n",
    "csv_path = r\"C:\\Users\\ayo\\Downloads\\internship_dataset\\OECD.DCD.FSD_DSD_CRS@DF_CRS_1_4_agri.csv\"\n",
    "\n",
    "# Read the CSV file as a Dask DataFrame (Dask will use all available CPU cores)\n",
    "ddf = dd.read_csv(csv_path, blocksize=\"64MB\", assume_missing=True)\n",
    "\n",
    "# Example: Get the shape (rows, columns)\n",
    "row_count = ddf.shape[0].compute()\n",
    "col_count = ddf.shape[1]\n",
    "print(f\"Dask DataFrame shape: {row_count} rows, {col_count} columns\")\n",
    "\n",
    "# Example: Find columns with more than 90% missing values\n",
    "total_rows = row_count\n",
    "missing_counts = ddf.isnull().sum().compute()\n",
    "mostly_empty_cols = missing_counts[missing_counts / total_rows > 0.9].index.tolist()\n",
    "print(f\"Columns with more than 90% missing values: {mostly_empty_cols}\")"
   ]
  },
  {
   "cell_type": "markdown",
   "id": "8cd6f8ba",
   "metadata": {},
   "source": [
    "Dask DataFrame shape: 78100206 rows, 103 columns\n",
    "Columns with more than 90% missing values: ['Microdata ID', 'Observation value', 'Base period', 'DONOR_AGENCY', 'Donor agency', 'OECD_ID', 'OECD ID', 'DONOR_PROJECT_ID', 'Donor project ID', 'REGION', 'Region', 'INCOME_GROUP', 'Income group', 'CHANNELDELIVERY_CODE', 'Channel of delivery code', 'CHANNELDELIVERY_NAME', 'Channel of delivery name', 'CATEGORY_CODE', 'Category code', 'CATEGORY_NAME', 'Category name', 'FINANCETYPE_CODE', 'FinanceType code', 'FINANCETYPE_NAME', 'FinanceType name', 'BIMULTI_CODE', 'BiMulti code', 'SHORT_DESCRIPTION', 'Short description', 'PROJECT_TITLE', 'Project title', 'LONG_DESCRIPTION', 'Long description', 'SDG_FOCUS', 'SDG focus', 'GENDER_EQUALITY', 'Gender equality', 'ENVIRONMENT', 'Environment', 'GOVERNANCE', 'Governance', 'RMNCH', 'RMNCH.1', 'DRR', 'DRR.1', 'NUTRITION', 'Nutrition', 'DISABILITY', 'Disability', 'BIODIVERSITY', 'Biodiversity', 'CLIMATE_MITIGATION', 'Climate mitigation', 'CLIMATE_ADAPTATION', 'Climate adaptation', 'DESERTIFICATION', 'Desertification', 'AMOUNT_TIED', 'Amount tied', 'AMOUNT_UNTIED', 'Amount untied', 'AMOUNT_PARTIALLY_UNTIED', 'Amount partially untied', 'NATURE_OF_SUBMISSION', 'Nature of submission', 'PSIFLAG_CODE', 'PSI flag', 'PSIFLAG_NAME', 'PSI Flag name']"
   ]
  },
  {
   "cell_type": "code",
   "execution_count": 2,
   "id": "09ff6ffd",
   "metadata": {},
   "outputs": [
    {
     "data": {
      "text/plain": [
       "69"
      ]
     },
     "execution_count": 2,
     "metadata": {},
     "output_type": "execute_result"
    }
   ],
   "source": [
    "len(mostly_empty_cols)  # Count of columns with more than 90% missing values"
   ]
  },
  {
   "cell_type": "code",
   "execution_count": 3,
   "id": "2b209c7b",
   "metadata": {},
   "outputs": [
    {
     "data": {
      "text/plain": [
       "34"
      ]
     },
     "execution_count": 3,
     "metadata": {},
     "output_type": "execute_result"
    }
   ],
   "source": [
    "103-len(mostly_empty_cols)  "
   ]
  }
 ],
 "metadata": {
  "kernelspec": {
   "display_name": "base",
   "language": "python",
   "name": "python3"
  },
  "language_info": {
   "codemirror_mode": {
    "name": "ipython",
    "version": 3
   },
   "file_extension": ".py",
   "mimetype": "text/x-python",
   "name": "python",
   "nbconvert_exporter": "python",
   "pygments_lexer": "ipython3",
   "version": "3.13.5"
  }
 },
 "nbformat": 4,
 "nbformat_minor": 5
}

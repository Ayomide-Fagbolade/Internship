{
 "cells": [
  {
   "cell_type": "code",
   "execution_count": 1,
   "id": "b26a3c30",
   "metadata": {},
   "outputs": [],
   "source": [
    "import dask.dataframe as dd\n",
    "import glob\n",
    "\n"
   ]
  },
  {
   "cell_type": "code",
   "execution_count": 2,
   "id": "1a4de47f",
   "metadata": {},
   "outputs": [],
   "source": [
    "csv_files_pattern = r'C:\\Users\\ayo\\Downloads\\internship_dataset\\crs_data\\*.csv'"
   ]
  },
  {
   "cell_type": "code",
   "execution_count": 3,
   "id": "0796a29e",
   "metadata": {},
   "outputs": [
    {
     "name": "stdout",
     "output_type": "stream",
     "text": [
      "C:\\Users\\ayo\\Downloads\\internship_dataset\\crs_data\\CRS 1973-94 data1.csv\n",
      "C:\\Users\\ayo\\Downloads\\internship_dataset\\crs_data\\CRS 1995-99 data.csv\n",
      "C:\\Users\\ayo\\Downloads\\internship_dataset\\crs_data\\CRS 2000-01 data.csv\n",
      "C:\\Users\\ayo\\Downloads\\internship_dataset\\crs_data\\CRS 2002-03 data.csv\n",
      "C:\\Users\\ayo\\Downloads\\internship_dataset\\crs_data\\CRS 2004-05 data.csv\n",
      "C:\\Users\\ayo\\Downloads\\internship_dataset\\crs_data\\CRS 2006 data.csv\n",
      "C:\\Users\\ayo\\Downloads\\internship_dataset\\crs_data\\CRS 2007 data.csv\n",
      "C:\\Users\\ayo\\Downloads\\internship_dataset\\crs_data\\CRS 2008 data.csv\n",
      "C:\\Users\\ayo\\Downloads\\internship_dataset\\crs_data\\CRS 2009 data.csv\n",
      "C:\\Users\\ayo\\Downloads\\internship_dataset\\crs_data\\CRS 2010 data.csv\n",
      "C:\\Users\\ayo\\Downloads\\internship_dataset\\crs_data\\CRS 2011 data.csv\n",
      "C:\\Users\\ayo\\Downloads\\internship_dataset\\crs_data\\CRS 2012 data.csv\n",
      "C:\\Users\\ayo\\Downloads\\internship_dataset\\crs_data\\CRS 2013 data.csv\n",
      "C:\\Users\\ayo\\Downloads\\internship_dataset\\crs_data\\CRS 2014 data.csv\n",
      "C:\\Users\\ayo\\Downloads\\internship_dataset\\crs_data\\CRS 2015 data.csv\n",
      "C:\\Users\\ayo\\Downloads\\internship_dataset\\crs_data\\CRS 2016 data.csv\n",
      "C:\\Users\\ayo\\Downloads\\internship_dataset\\crs_data\\CRS 2017 data.csv\n",
      "C:\\Users\\ayo\\Downloads\\internship_dataset\\crs_data\\CRS 2018 data.csv\n",
      "C:\\Users\\ayo\\Downloads\\internship_dataset\\crs_data\\CRS 2019 data.csv\n",
      "C:\\Users\\ayo\\Downloads\\internship_dataset\\crs_data\\CRS 2020 data.csv\n",
      "C:\\Users\\ayo\\Downloads\\internship_dataset\\crs_data\\CRS 2021 data.csv\n",
      "C:\\Users\\ayo\\Downloads\\internship_dataset\\crs_data\\CRS 2022 data.csv\n",
      "C:\\Users\\ayo\\Downloads\\internship_dataset\\crs_data\\CRS 2023 data.csv\n"
     ]
    }
   ],
   "source": [
    "csv_files = glob.glob(csv_files_pattern)\n",
    "dfs = []\n",
    "for file in csv_files:\n",
    "    print(file)\n",
    "    dfs.append(dd.read_csv(file, dtype=str))  # Read all columns as string\n",
    "\n"
   ]
  },
  {
   "cell_type": "code",
   "execution_count": 6,
   "id": "1cda3d40",
   "metadata": {
    "vscode": {
     "languageId": "javascript"
    }
   },
   "outputs": [
    {
     "data": {
      "text/plain": [
       "['c:\\\\Users\\\\ayo\\\\Desktop\\\\Internship\\\\combined_crs_1973_2023.csv']"
      ]
     },
     "execution_count": 6,
     "metadata": {},
     "output_type": "execute_result"
    }
   ],
   "source": [
    "combined_crs_1973_2023 = dd.concat(dfs, axis=0, interleave_partitions=True)\n",
    "combined_crs_1973_2023.to_csv('combined_crs_1973_2023.csv', single_file=True, index=False)"
   ]
  }
 ],
 "metadata": {
  "kernelspec": {
   "display_name": "base",
   "language": "python",
   "name": "python3"
  },
  "language_info": {
   "codemirror_mode": {
    "name": "ipython",
    "version": 3
   },
   "file_extension": ".py",
   "mimetype": "text/x-python",
   "name": "python",
   "nbconvert_exporter": "python",
   "pygments_lexer": "ipython3",
   "version": "3.13.5"
  }
 },
 "nbformat": 4,
 "nbformat_minor": 5
}
